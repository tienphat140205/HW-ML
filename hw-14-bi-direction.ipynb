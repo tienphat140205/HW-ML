{
 "cells": [
  {
   "cell_type": "markdown",
   "id": "66a3516e",
   "metadata": {
    "id": "pVkQHipC35QJ",
    "papermill": {
     "duration": 0.004291,
     "end_time": "2024-09-22T17:29:24.784924",
     "exception": false,
     "start_time": "2024-09-22T17:29:24.780633",
     "status": "completed"
    },
    "tags": []
   },
   "source": [
    "# Bi-directional Recurrent Neural Network Example\n",
    "\n",
    "Xây dựng mạng RNN 2 chiều với PyTorch"
   ]
  },
  {
   "cell_type": "markdown",
   "id": "4a7bbb16",
   "metadata": {
    "id": "3ohdKVqt35QL",
    "papermill": {
     "duration": 0.003462,
     "end_time": "2024-09-22T17:29:24.792648",
     "exception": false,
     "start_time": "2024-09-22T17:29:24.789186",
     "status": "completed"
    },
    "tags": []
   },
   "source": [
    "## Tổng quan về BiRNN\n",
    "\n",
    "<img src=\"https://www.easy-tensorflow.com/images/NN/03.png\" alt=\"nn\" style=\"width: 600px;\"/>\n",
    "\n",
    "\n",
    "## Tổng quan về bộ dữ liệu MNIST\n",
    "\n",
    "Ví dụ này sử dụng bộ dữ liệu về chữ số viết tay MNIST. Bộ dữ liệu chữa 60k mẫu cho huấn luyện và 10k mẫu cho kiểm thử.\n",
    "\n",
    "![MNIST Dataset](https://i1.wp.com/varianceexplained.org/images/mnist.png?w=456)\n",
    "\n",
    "Để phân loại hình ảnh sử dụng RNN, chúng ta sẽ coi mỗi hàng là 1 chuỗi pixels. Bởi vì kích thước ảnh là 28*28px, ta sẽ sử lý 28 chuỗi của 28 timesteps cho tất cả các sample."
   ]
  },
  {
   "cell_type": "code",
   "execution_count": 1,
   "id": "6a5057a5",
   "metadata": {
    "execution": {
     "iopub.execute_input": "2024-09-22T17:29:24.801254Z",
     "iopub.status.busy": "2024-09-22T17:29:24.800901Z",
     "iopub.status.idle": "2024-09-22T17:29:29.460579Z",
     "shell.execute_reply": "2024-09-22T17:29:29.459743Z"
    },
    "id": "8t6UCwCB35QN",
    "papermill": {
     "duration": 4.666684,
     "end_time": "2024-09-22T17:29:29.462940",
     "exception": false,
     "start_time": "2024-09-22T17:29:24.796256",
     "status": "completed"
    },
    "tags": []
   },
   "outputs": [],
   "source": [
    "import torch\n",
    "import torch.nn as nn\n",
    "import torch.nn.functional as F\n",
    "import torch.optim as optim\n",
    "import torchvision\n",
    "import torchvision.transforms as transforms\n",
    "from torch.autograd import Variable\n",
    "import numpy as np"
   ]
  },
  {
   "cell_type": "code",
   "execution_count": 2,
   "id": "01a64a74",
   "metadata": {
    "execution": {
     "iopub.execute_input": "2024-09-22T17:29:29.472133Z",
     "iopub.status.busy": "2024-09-22T17:29:29.471726Z",
     "iopub.status.idle": "2024-09-22T17:29:42.640159Z",
     "shell.execute_reply": "2024-09-22T17:29:42.639367Z"
    },
    "executionInfo": {
     "elapsed": 3002,
     "status": "ok",
     "timestamp": 1630205680823,
     "user": {
      "displayName": "Nam Cao Hải",
      "photoUrl": "https://lh3.googleusercontent.com/a-/AOh14GiCmrl3X4wfKjF82UzLyBPTNB6px2ty7jZ8llyL=s64",
      "userId": "02198006735637931468"
     },
     "user_tz": -420
    },
    "id": "2bVsHfAT35QO",
    "outputId": "88a2873d-aed7-4394-e22d-79244b295aa3",
    "papermill": {
     "duration": 13.17542,
     "end_time": "2024-09-22T17:29:42.642502",
     "exception": false,
     "start_time": "2024-09-22T17:29:29.467082",
     "status": "completed"
    },
    "tags": []
   },
   "outputs": [
    {
     "name": "stdout",
     "output_type": "stream",
     "text": [
      "Downloading data from https://storage.googleapis.com/tensorflow/tf-keras-datasets/mnist.npz\n",
      "\u001b[1m11490434/11490434\u001b[0m \u001b[32m━━━━━━━━━━━━━━━━━━━━\u001b[0m\u001b[37m\u001b[0m \u001b[1m0s\u001b[0m 0us/step\n"
     ]
    }
   ],
   "source": [
    "# Chuẩn bị dữ liệu\n",
    "from tensorflow.keras.datasets import mnist\n",
    "(x_train, y_train), (x_test, y_test) = mnist.load_data()\n",
    "# Chuyển đổi sang định dạng float32.\n",
    "x_train, x_test = np.array(x_train, np.float32), np.array(x_test, np.float32)\n",
    "x_train, x_test = x_train.reshape([-1, 28, 28]), x_test.reshape([-1, 28, 28])\n",
    "# Chuẩn hóa ảnh từ from [0, 255] to [0, 1].\n",
    "x_train, x_test = x_train / 255., x_test / 255.\n",
    "x_train, x_test, y_train, y_test = torch.from_numpy(x_train), torch.from_numpy(x_test), torch.from_numpy(y_train).type(torch.LongTensor), torch.from_numpy(y_test).type(torch.LongTensor)"
   ]
  },
  {
   "cell_type": "code",
   "execution_count": 3,
   "id": "09ae2c4f",
   "metadata": {
    "execution": {
     "iopub.execute_input": "2024-09-22T17:29:42.652530Z",
     "iopub.status.busy": "2024-09-22T17:29:42.651915Z",
     "iopub.status.idle": "2024-09-22T17:29:43.151843Z",
     "shell.execute_reply": "2024-09-22T17:29:43.150824Z"
    },
    "id": "T1OG2tCW35QO",
    "papermill": {
     "duration": 0.507316,
     "end_time": "2024-09-22T17:29:43.154169",
     "exception": false,
     "start_time": "2024-09-22T17:29:42.646853",
     "status": "completed"
    },
    "tags": []
   },
   "outputs": [],
   "source": [
    "trainloader = []\n",
    "batch_size = 16\n",
    "for (i,j) in zip(x_train, y_train):\n",
    "    trainloader.append([i,j])\n",
    "trainloader = torch.utils.data.DataLoader(trainloader, shuffle=True, batch_size=batch_size)\n",
    "\n",
    "testloader = []\n",
    "for (i,j) in zip(x_test, y_test):\n",
    "    testloader.append([i,j])\n",
    "testloader = torch.utils.data.DataLoader(testloader, shuffle=True, batch_size=batch_size)"
   ]
  },
  {
   "cell_type": "code",
   "execution_count": 4,
   "id": "284cfb83",
   "metadata": {
    "execution": {
     "iopub.execute_input": "2024-09-22T17:29:43.163722Z",
     "iopub.status.busy": "2024-09-22T17:29:43.163388Z",
     "iopub.status.idle": "2024-09-22T17:29:43.170964Z",
     "shell.execute_reply": "2024-09-22T17:29:43.170014Z"
    },
    "id": "xzcLVHaz35QP",
    "papermill": {
     "duration": 0.014511,
     "end_time": "2024-09-22T17:29:43.172965",
     "exception": false,
     "start_time": "2024-09-22T17:29:43.158454",
     "status": "completed"
    },
    "tags": []
   },
   "outputs": [],
   "source": [
    "# Khởi tạo mô hình BiRNN\n",
    "class BiRNNModel(nn.Module):\n",
    "    def __init__(self, input_dim, hidden_dim, layer_dim, output_dim):\n",
    "        super(BiRNNModel, self).__init__()\n",
    "        \n",
    "        # Thiết lập số chiều của tầng ẩn\n",
    "        self.hidden_dim = hidden_dim\n",
    "        \n",
    "        # Thiết lập số layers\n",
    "        self.layer_dim = layer_dim\n",
    "        \n",
    "        # RNN\n",
    "        self.rnn = nn.RNN(input_dim,hidden_dim,layer_dim, batch_first=True, nonlinearity='relu', bidirectional=True)\n",
    "        \n",
    "        # Readout layer\n",
    "        self.fc = nn.Linear(hidden_dim*2, output_dim)\n",
    "    \n",
    "    def forward(self, x):\n",
    "        \n",
    "        # Khởi tạo hidden state\n",
    "        h0 =torch.zeros(self.layer_dim*2,x.size(0),self.hidden_dim)\n",
    "        # print\n",
    "        # One time step\n",
    "        out, hn = self.rnn(x, h0)\n",
    "        # print(2)\n",
    "        # print(out.shape)\n",
    "        out = self.fc(out[:, -1, :]) \n",
    "        # print(3)\n",
    "        return out"
   ]
  },
  {
   "cell_type": "code",
   "execution_count": 5,
   "id": "49dd2cc0",
   "metadata": {
    "execution": {
     "iopub.execute_input": "2024-09-22T17:29:43.182421Z",
     "iopub.status.busy": "2024-09-22T17:29:43.181931Z",
     "iopub.status.idle": "2024-09-22T17:29:43.199225Z",
     "shell.execute_reply": "2024-09-22T17:29:43.198532Z"
    },
    "id": "4sTvxZ7H35QP",
    "papermill": {
     "duration": 0.023981,
     "end_time": "2024-09-22T17:29:43.201110",
     "exception": false,
     "start_time": "2024-09-22T17:29:43.177129",
     "status": "completed"
    },
    "tags": []
   },
   "outputs": [],
   "source": [
    "# Create RNN\n",
    "input_dim = 28    # chiều của input\n",
    "hidden_dim = 100  # chiều của hidden state\n",
    "layer_dim = 1     # số tầng ẩn\n",
    "output_dim = 10   # chiều của vector output\n",
    "\n",
    "model = BiRNNModel(input_dim,hidden_dim,layer_dim,output_dim)\n",
    "\n",
    "# Cross Entropy Loss \n",
    "import torch.optim as optim\n",
    "criterion = nn.CrossEntropyLoss()\n",
    "optimizer = optim.SGD(model.parameters(), lr=0.001, momentum=0.9)"
   ]
  },
  {
   "cell_type": "code",
   "execution_count": 6,
   "id": "0c936b88",
   "metadata": {
    "execution": {
     "iopub.execute_input": "2024-09-22T17:29:43.210126Z",
     "iopub.status.busy": "2024-09-22T17:29:43.209858Z",
     "iopub.status.idle": "2024-09-22T17:30:46.166528Z",
     "shell.execute_reply": "2024-09-22T17:30:46.165472Z"
    },
    "executionInfo": {
     "elapsed": 82588,
     "status": "ok",
     "timestamp": 1630205793666,
     "user": {
      "displayName": "Nam Cao Hải",
      "photoUrl": "https://lh3.googleusercontent.com/a-/AOh14GiCmrl3X4wfKjF82UzLyBPTNB6px2ty7jZ8llyL=s64",
      "userId": "02198006735637931468"
     },
     "user_tz": -420
    },
    "id": "wSRrl4HM35QQ",
    "outputId": "165b89ff-f367-468b-ce9a-d0a713285df3",
    "papermill": {
     "duration": 62.96378,
     "end_time": "2024-09-22T17:30:46.168908",
     "exception": false,
     "start_time": "2024-09-22T17:29:43.205128",
     "status": "completed"
    },
    "tags": []
   },
   "outputs": [
    {
     "name": "stdout",
     "output_type": "stream",
     "text": [
      "[1,  1000] loss: 1.150\n",
      "[1,  2000] loss: 1.143\n",
      "[1,  3000] loss: 0.944\n",
      "[2,  1000] loss: 0.391\n",
      "[2,  2000] loss: 0.319\n",
      "[2,  3000] loss: 0.257\n",
      "Finished Training\n"
     ]
    }
   ],
   "source": [
    "for epoch in range(2):  # loop over the dataset multiple times\n",
    "\n",
    "    running_loss = 0.0\n",
    "    for i, data in enumerate(trainloader, 0):\n",
    "        # get the inputs; data is a list of [inputs, labels]\n",
    "        inputs, labels = data\n",
    "        # zero the parameter gradients\n",
    "        optimizer.zero_grad()\n",
    "\n",
    "        # forward + backward + optimize\n",
    "        outputs = model(inputs)\n",
    "        loss = criterion(outputs, labels)\n",
    "        loss.backward()\n",
    "        optimizer.step()\n",
    "\n",
    "        # print statistics\n",
    "        running_loss += loss.item()\n",
    "        if i % 1000 == 999:    # print every 2000 mini-batches\n",
    "            print('[%d, %5d] loss: %.3f' %\n",
    "                  (epoch + 1, i + 1, running_loss / 2000))\n",
    "            running_loss = 0.0\n",
    "\n",
    "print('Finished Training')"
   ]
  },
  {
   "cell_type": "code",
   "execution_count": 7,
   "id": "7df9898b",
   "metadata": {
    "execution": {
     "iopub.execute_input": "2024-09-22T17:30:46.182029Z",
     "iopub.status.busy": "2024-09-22T17:30:46.181164Z",
     "iopub.status.idle": "2024-09-22T17:30:47.359417Z",
     "shell.execute_reply": "2024-09-22T17:30:47.358427Z"
    },
    "executionInfo": {
     "elapsed": 1216,
     "status": "ok",
     "timestamp": 1630064349531,
     "user": {
      "displayName": "Nam Cao Hải",
      "photoUrl": "https://lh3.googleusercontent.com/a-/AOh14GiCmrl3X4wfKjF82UzLyBPTNB6px2ty7jZ8llyL=s64",
      "userId": "02198006735637931468"
     },
     "user_tz": -420
    },
    "id": "Z3jbou1z35QR",
    "outputId": "ed1ad76f-449a-4cad-cf17-151d1036d2f4",
    "papermill": {
     "duration": 1.186961,
     "end_time": "2024-09-22T17:30:47.361585",
     "exception": false,
     "start_time": "2024-09-22T17:30:46.174624",
     "status": "completed"
    },
    "tags": []
   },
   "outputs": [
    {
     "name": "stdout",
     "output_type": "stream",
     "text": [
      "Accuracy of the network on the 10000 test images: 88 %\n"
     ]
    }
   ],
   "source": [
    "correct = 0\n",
    "total = 0\n",
    "# quá trình kiểm thử ko cần thiết phải tính gradients cho output\n",
    "with torch.no_grad():\n",
    "    for data in testloader:\n",
    "        images, labels = data\n",
    "        # calculate outputs by running images through the network\n",
    "        outputs = model(images)\n",
    "        # the class with the highest energy is what we choose as prediction\n",
    "        _, predicted = torch.max(outputs.data, 1)\n",
    "        total += labels.size(0)\n",
    "        correct += (predicted == labels).sum().item()\n",
    "\n",
    "print('Accuracy of the network on the 10000 test images: %d %%' % (\n",
    "    100 * correct / total))"
   ]
  },
  {
   "cell_type": "code",
   "execution_count": null,
   "id": "ec75b52b",
   "metadata": {
    "papermill": {
     "duration": 0.005375,
     "end_time": "2024-09-22T17:30:47.372868",
     "exception": false,
     "start_time": "2024-09-22T17:30:47.367493",
     "status": "completed"
    },
    "tags": []
   },
   "outputs": [],
   "source": []
  }
 ],
 "metadata": {
  "colab": {
   "collapsed_sections": [],
   "name": "Bidirectional_RNN_API.ipynb",
   "provenance": []
  },
  "kaggle": {
   "accelerator": "none",
   "dataSources": [],
   "dockerImageVersionId": 30761,
   "isGpuEnabled": false,
   "isInternetEnabled": true,
   "language": "python",
   "sourceType": "notebook"
  },
  "kernelspec": {
   "display_name": "Python 3",
   "language": "python",
   "name": "python3"
  },
  "language_info": {
   "codemirror_mode": {
    "name": "ipython",
    "version": 3
   },
   "file_extension": ".py",
   "mimetype": "text/x-python",
   "name": "python",
   "nbconvert_exporter": "python",
   "pygments_lexer": "ipython3",
   "version": "3.10.14"
  },
  "papermill": {
   "default_parameters": {},
   "duration": 87.743648,
   "end_time": "2024-09-22T17:30:49.823978",
   "environment_variables": {},
   "exception": null,
   "input_path": "__notebook__.ipynb",
   "output_path": "__notebook__.ipynb",
   "parameters": {},
   "start_time": "2024-09-22T17:29:22.080330",
   "version": "2.6.0"
  }
 },
 "nbformat": 4,
 "nbformat_minor": 5
}
