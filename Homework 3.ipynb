{
 "cells": [
  {
   "cell_type": "markdown",
   "metadata": {},
   "source": [
    "# Đề bài về nhà"
   ]
  },
  {
   "cell_type": "markdown",
   "metadata": {},
   "source": [
    "## Yêu cầu"
   ]
  },
  {
   "cell_type": "markdown",
   "metadata": {},
   "source": [
    "- Tự viết code cho mô hình Linear Regression theo công thức đã được dạy trong buổi lý thuyết trên lớp.\n",
    "- Tự viết hàm dự đoán.\n",
    "- Huấn luyện cả mô hình của thư viện và mô hình mình tự viết.\n",
    "- In ra các trọng số: w0, w1, w2, ..., wn của cả 2 mô hình đã huấn luyện để quan sát và so sánh.\n",
    "- Dự đoán dữ liệu tập test bằng cả 2 mô hình (mô hình thư viện thì dùng hàm predict() của thư viện, mô hình tự viết dùng hàm dự đoán tự viết), in ra kết quả bằng Dataframe như trong bài thực hành trên lớp.\n",
    "- Tính RMSE trên tập test cho cả 2 mô hình và so sánh."
   ]
  },
  {
   "cell_type": "markdown",
   "metadata": {},
   "source": [
    "## Dữ liệu "
   ]
  },
  {
   "cell_type": "markdown",
   "metadata": {},
   "source": [
    "Tập dữ liệu giá nhà ở Boston đã có sẵn trên sklearn, dữ liệu đã được chuẩn hóa và chia thành tập train, tập test"
   ]
  },
  {
   "cell_type": "code",
   "execution_count": 6,
   "metadata": {},
   "outputs": [],
   "source": [
    "import matplotlib.pyplot as plt\n",
    "import numpy as np\n",
    "import pandas as pd \n",
    "import math \n",
    "\n",
    "from sklearn import datasets, linear_model\n",
    "from sklearn.metrics import mean_squared_error, r2_score"
   ]
  },
  {
   "cell_type": "markdown",
   "metadata": {},
   "source": [
    "# Đọc dữ liệu \n",
    "\n",
    "Dữ liệu về giá nhà ở Boston được hỗ trợ bởi sklearn, đọc dữ liệu thông qua hàm `datasets.load_boston()` \n",
    "\n",
    "Xem thêm các bộ dữ liệu khác tại https://scikit-learn.org/stable/datasets/index.html#toy-datasets. \n",
    "\n",
    "Dữ liệu được chia thành các thành phần data và target như tập diabetes. Dữ liệu cũng đã được chuẩn hóa, chỉ cần gọi ra và huấn luyện"
   ]
  },
  {
   "cell_type": "code",
   "execution_count": 7,
   "metadata": {},
   "outputs": [
    {
     "name": "stdout",
     "output_type": "stream",
     "text": [
      "Số chiều dữ liệu input:  (506, 13)\n",
      "Số chiều dữ liệu target:  (506,)\n",
      "5 mẫu dữ liệu đầu tiên:\n",
      "input:  [[6.3200e-03 1.8000e+01 2.3100e+00 0.0000e+00 5.3800e-01 6.5750e+00\n",
      "  6.5200e+01 4.0900e+00 1.0000e+00 2.9600e+02 1.5300e+01 3.9690e+02\n",
      "  4.9800e+00]\n",
      " [2.7310e-02 0.0000e+00 7.0700e+00 0.0000e+00 4.6900e-01 6.4210e+00\n",
      "  7.8900e+01 4.9671e+00 2.0000e+00 2.4200e+02 1.7800e+01 3.9690e+02\n",
      "  9.1400e+00]\n",
      " [2.7290e-02 0.0000e+00 7.0700e+00 0.0000e+00 4.6900e-01 7.1850e+00\n",
      "  6.1100e+01 4.9671e+00 2.0000e+00 2.4200e+02 1.7800e+01 3.9283e+02\n",
      "  4.0300e+00]\n",
      " [3.2370e-02 0.0000e+00 2.1800e+00 0.0000e+00 4.5800e-01 6.9980e+00\n",
      "  4.5800e+01 6.0622e+00 3.0000e+00 2.2200e+02 1.8700e+01 3.9463e+02\n",
      "  2.9400e+00]\n",
      " [6.9050e-02 0.0000e+00 2.1800e+00 0.0000e+00 4.5800e-01 7.1470e+00\n",
      "  5.4200e+01 6.0622e+00 3.0000e+00 2.2200e+02 1.8700e+01 3.9690e+02\n",
      "  5.3300e+00]]\n",
      "target:  [24.  21.6 34.7 33.4 36.2]\n"
     ]
    }
   ],
   "source": [
    "data_url = \"http://lib.stat.cmu.edu/datasets/boston\"\n",
    "raw_df = pd.read_csv(data_url, sep=\"\\s+\", skiprows=22, header=None)\n",
    "data = np.concatenate([raw_df.values[::2, :], raw_df.values[1::2, :2]],axis=1)\n",
    "target = raw_df.values[1::2, 2]\n",
    "print(\"Số chiều dữ liệu input: \", data.shape)\n",
    "print(\"Số chiều dữ liệu target: \",target.shape)\n",
    "print(\"5 mẫu dữ liệu đầu tiên:\")\n",
    "print(\"input: \", data[:5])\n",
    "print(\"target: \",target[:5])\n"
   ]
  },
  {
   "cell_type": "markdown",
   "metadata": {},
   "source": [
    "**Chia dữ liệu làm 2 phần training 362 mẫu và testing 80 mẫu** "
   ]
  },
  {
   "cell_type": "code",
   "execution_count": 44,
   "metadata": {},
   "outputs": [
    {
     "data": {
      "text/plain": [
       "(404, 13)"
      ]
     },
     "execution_count": 44,
     "metadata": {},
     "output_type": "execute_result"
    }
   ],
   "source": [
    "# cat nho du lieu, lay 1 phan cho qua trinh thu nghiem,\n",
    "# chia train test cac mau du lieu\n",
    "# dataset_X = dataset.data[:, np.newaxis, 2]\n",
    "dataset_X = data\n",
    "dataset_X_train = dataset_X[:404]\n",
    "dataset_y_train = target[:404]\n",
    "\n",
    "dataset_X_test = dataset_X[405:]\n",
    "dataset_y_test = target[405:]\n",
    "dataset_X_train.shape\n"
   ]
  },
  {
   "cell_type": "markdown",
   "metadata": {},
   "source": [
    "# Xây dựng mô hình"
   ]
  },
  {
   "cell_type": "markdown",
   "metadata": {},
   "source": [
    "## Xây dựng mô hình bằng thư viện"
   ]
  },
  {
   "cell_type": "code",
   "execution_count": 28,
   "metadata": {},
   "outputs": [],
   "source": [
    "from sklearn.linear_model import LinearRegression\n",
    "reg=LinearRegression()\n"
   ]
  },
  {
   "cell_type": "markdown",
   "metadata": {},
   "source": [
    "## Xây dựng mô hình Linear Regression tự viết "
   ]
  },
  {
   "cell_type": "code",
   "execution_count": 49,
   "metadata": {},
   "outputs": [
    {
     "data": {
      "text/plain": [
       "(404, 14)"
      ]
     },
     "execution_count": 49,
     "metadata": {},
     "output_type": "execute_result"
    }
   ],
   "source": [
    "one=np.ones((dataset_X_train.shape[0],1))\n",
    "A=np.concatenate((one,dataset_X_train),axis=1)\n",
    "A.shape"
   ]
  },
  {
   "cell_type": "markdown",
   "metadata": {},
   "source": [
    "## Hàm test mô hình tự viết"
   ]
  },
  {
   "cell_type": "code",
   "execution_count": 58,
   "metadata": {},
   "outputs": [],
   "source": [
    "from sklearn.metrics import r2_score,mean_squared_error,mean_absolute_error\n",
    "def test_model(y_pred,y_test):\n",
    "    print(r2_score(y_test,y_pred))\n",
    "    print(means_squared_error(y_test,y_pred))\n",
    "    print(mean_absolute_error(y_test,y_pred))"
   ]
  },
  {
   "cell_type": "markdown",
   "metadata": {},
   "source": [
    "# Huấn luyện mô hình"
   ]
  },
  {
   "cell_type": "markdown",
   "metadata": {},
   "source": [
    "## Huấn luyện mô hình của thư viện"
   ]
  },
  {
   "cell_type": "code",
   "execution_count": 46,
   "metadata": {},
   "outputs": [
    {
     "data": {
      "text/plain": [
       "array([-2.02135297e-01,  4.41276341e-02,  5.26739364e-02,  1.88474315e+00,\n",
       "       -1.49281487e+01,  4.76038673e+00,  2.88734527e-03, -1.30025278e+00,\n",
       "        4.61661953e-01, -1.55434673e-02, -8.11632369e-01, -1.97174433e-03,\n",
       "       -5.32273431e-01])"
      ]
     },
     "execution_count": 46,
     "metadata": {},
     "output_type": "execute_result"
    }
   ],
   "source": [
    "reg.fit(dataset_X_train,dataset_y_train)\n",
    "reg.coef_"
   ]
  },
  {
   "cell_type": "markdown",
   "metadata": {},
   "source": [
    "## Training mô hình bằng Linear regression tự viết"
   ]
  },
  {
   "cell_type": "code",
   "execution_count": 51,
   "metadata": {},
   "outputs": [
    {
     "data": {
      "text/plain": [
       "array([ 3.00771669e+01, -2.02135297e-01,  4.41276341e-02,  5.26739364e-02,\n",
       "        1.88474315e+00, -1.49281487e+01,  4.76038673e+00,  2.88734527e-03,\n",
       "       -1.30025278e+00,  4.61661953e-01, -1.55434673e-02, -8.11632369e-01,\n",
       "       -1.97174433e-03, -5.32273431e-01])"
      ]
     },
     "execution_count": 51,
     "metadata": {},
     "output_type": "execute_result"
    }
   ],
   "source": [
    "w=np.dot (np. linalg.inv(np.dot(A.T,A)),np.dot(A.T,dataset_y_train))\n",
    "w"
   ]
  },
  {
   "cell_type": "markdown",
   "metadata": {},
   "source": [
    "# Dự đoán các mẫu dữ liệu"
   ]
  },
  {
   "cell_type": "markdown",
   "metadata": {},
   "source": [
    "## Dự đoán các mẫu dữ liệu theo mô hình của thư viện"
   ]
  },
  {
   "cell_type": "code",
   "execution_count": 50,
   "metadata": {},
   "outputs": [
    {
     "data": {
      "text/plain": [
       "array([ 3.78705697,  6.64054968, 21.31276497, 15.41271412, 23.65229756,\n",
       "       16.5856869 , 22.2398228 ,  4.59739429, 12.3169525 , -4.44125395,\n",
       "       14.58699578, 19.44878328,  8.91710678,  5.65808812, 20.43111408,\n",
       "       22.17125684, 20.66658612, 20.28490422, 19.04039215, 19.73961052,\n",
       "       14.88382776, 21.13129199, 17.17770988, 19.28271938, 18.49086819,\n",
       "       23.17359203, 24.05552964, 26.68692039, 22.64112485, 20.57172202,\n",
       "       18.52528873, 20.16236932, 14.23753201,  9.44743091, 14.15251822,\n",
       "       12.85517737, 19.29064244, 20.84754265, 20.09364492, 14.27333565,\n",
       "       17.74701701, 20.71930787, 19.97203851, 19.18863916, 20.31063775,\n",
       "       23.45234188, 22.38371917, 20.90114965, 25.69227454, 21.87873152,\n",
       "       22.15274176, 18.98327823, 18.91436618, 20.5953674 , 20.39616439,\n",
       "       23.28568554, 22.67323362, 21.90107552, 24.91067603, 22.07465271,\n",
       "       20.33275353, 20.49535154, 19.29672605, 17.81302376, 19.11160043,\n",
       "       22.02849443, 24.86005763, 24.6577531 , 28.44253746, 17.61721029,\n",
       "       18.67483275, 22.62799959, 12.01145877, 20.68363345, 22.93586735,\n",
       "       25.19413354, 29.38991971, 31.15343044, 22.74791523, 21.57518189,\n",
       "       24.52732296, 21.48704243, 22.98786089, 10.36933839,  7.22858905,\n",
       "        2.61862707, 12.85744074, 14.99667778, 19.98015527, 20.12729331,\n",
       "       16.21974587, 13.10044538, 18.6461412 , 20.96472466, 17.71245005,\n",
       "       20.18100694, 23.75504428, 22.08167261, 28.18177256, 26.57242029,\n",
       "       22.02056649])"
      ]
     },
     "execution_count": 50,
     "metadata": {},
     "output_type": "execute_result"
    }
   ],
   "source": [
    "y_pred1=reg.predict(dataset_X_test)\n",
    "y_pred1"
   ]
  },
  {
   "cell_type": "markdown",
   "metadata": {},
   "source": [
    "## Dự đoán các mẫu dữ liệu tính theo linear regression tự viết"
   ]
  },
  {
   "cell_type": "code",
   "execution_count": 54,
   "metadata": {},
   "outputs": [
    {
     "data": {
      "text/plain": [
       "array([ 3.78705697,  6.64054968, 21.31276497, 15.41271412, 23.65229756,\n",
       "       16.5856869 , 22.2398228 ,  4.59739429, 12.3169525 , -4.44125395,\n",
       "       14.58699578, 19.44878328,  8.91710678,  5.65808812, 20.43111408,\n",
       "       22.17125684, 20.66658612, 20.28490422, 19.04039215, 19.73961052,\n",
       "       14.88382776, 21.13129199, 17.17770988, 19.28271938, 18.49086819,\n",
       "       23.17359203, 24.05552964, 26.68692039, 22.64112485, 20.57172202,\n",
       "       18.52528873, 20.16236932, 14.23753201,  9.44743091, 14.15251822,\n",
       "       12.85517737, 19.29064244, 20.84754265, 20.09364492, 14.27333565,\n",
       "       17.74701701, 20.71930787, 19.97203851, 19.18863916, 20.31063775,\n",
       "       23.45234188, 22.38371917, 20.90114965, 25.69227454, 21.87873152,\n",
       "       22.15274176, 18.98327823, 18.91436618, 20.5953674 , 20.39616439,\n",
       "       23.28568554, 22.67323362, 21.90107552, 24.91067603, 22.07465271,\n",
       "       20.33275353, 20.49535154, 19.29672605, 17.81302376, 19.11160043,\n",
       "       22.02849443, 24.86005763, 24.6577531 , 28.44253746, 17.61721029,\n",
       "       18.67483275, 22.62799959, 12.01145877, 20.68363345, 22.93586735,\n",
       "       25.19413354, 29.38991971, 31.15343044, 22.74791523, 21.57518189,\n",
       "       24.52732296, 21.48704243, 22.98786089, 10.36933839,  7.22858905,\n",
       "        2.61862707, 12.85744074, 14.99667778, 19.98015527, 20.12729331,\n",
       "       16.21974587, 13.10044538, 18.6461412 , 20.96472466, 17.71245005,\n",
       "       20.18100694, 23.75504428, 22.08167261, 28.18177256, 26.57242029,\n",
       "       22.02056649])"
      ]
     },
     "execution_count": 54,
     "metadata": {},
     "output_type": "execute_result"
    }
   ],
   "source": [
    "A_test=np.concatenate((np.ones((dataset_X_test.shape[0],1)),dataset_X_test),axis=1)\n",
    "y_pred2=np.dot(A_test,w)\n",
    "y_pred2"
   ]
  },
  {
   "cell_type": "markdown",
   "metadata": {},
   "source": [
    "## Đánh giá mô hình linear regression của thư viện"
   ]
  },
  {
   "cell_type": "code",
   "execution_count": 55,
   "metadata": {},
   "outputs": [],
   "source": [
    "def test(y_pred,dataset_y_test):\n",
    "    x=y_pred-dataset_y_test\n",
    "    return np.dot(x.T,x)/len(x)"
   ]
  },
  {
   "cell_type": "code",
   "execution_count": 56,
   "metadata": {},
   "outputs": [
    {
     "name": "stdout",
     "output_type": "stream",
     "text": [
      "33.05700173652929\n"
     ]
    }
   ],
   "source": [
    "print(test(y_pred1,dataset_y_test))"
   ]
  },
  {
   "cell_type": "markdown",
   "metadata": {},
   "source": [
    "## Đánh giá mô hình linear regression tự viết"
   ]
  },
  {
   "cell_type": "code",
   "execution_count": 57,
   "metadata": {},
   "outputs": [
    {
     "name": "stdout",
     "output_type": "stream",
     "text": [
      "33.057001736540826\n"
     ]
    }
   ],
   "source": [
    "print(test(y_pred2,dataset_y_test))"
   ]
  }
 ],
 "metadata": {
  "kernelspec": {
   "display_name": "Python 3",
   "language": "python",
   "name": "python3"
  },
  "language_info": {
   "codemirror_mode": {
    "name": "ipython",
    "version": 3
   },
   "file_extension": ".py",
   "mimetype": "text/x-python",
   "name": "python",
   "nbconvert_exporter": "python",
   "pygments_lexer": "ipython3",
   "version": "3.9.6"
  }
 },
 "nbformat": 4,
 "nbformat_minor": 4
}
